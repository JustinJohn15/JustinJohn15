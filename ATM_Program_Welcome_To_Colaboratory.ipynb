{
  "cells": [
    {
      "cell_type": "markdown",
      "metadata": {
        "id": "view-in-github",
        "colab_type": "text"
      },
      "source": [
        "<a href=\"https://colab.research.google.com/github/JustinJohn15/JustinJohn15/blob/main/ATM_Program_Welcome_To_Colaboratory.ipynb\" target=\"_parent\"><img src=\"https://colab.research.google.com/assets/colab-badge.svg\" alt=\"Open In Colab\"/></a>"
      ]
    },
    {
      "cell_type": "code",
      "source": [
        "#### creating a class atm\n",
        "class atm:\n",
        "    def __init__(self,name):                                  #### accepting the name using a function\n",
        "        self.name=name\n",
        "    def acc_info(self):                                       #### taking the function for account information\n",
        "        print('Account Information: ')\n",
        "        print('Name: ', name, end='\\n')\n",
        "        print('Account Number: ', info[name][0], end='\\n')\n",
        "        print('Phone Number: ', info[name][1], end='\\n')\n",
        "    def pin_change(self):                                       ####taking the function for pin number and checking for 3times\n",
        "        i=3\n",
        "        while(i>0):                                             #### using while loop for checking  for the pin number\n",
        "            p=int(input('Enter Original PIN: '))\n",
        "            if p==info[name][2]:\n",
        "                x=input('Enter New PIN: ')\n",
        "                info[name][2]=x\n",
        "                break\n",
        "            else:\n",
        "                i=i-1\n",
        "                print('PIN incorrect, {} tries left'.format(i))\n",
        "        if i==0:\n",
        "            del info[name]\n",
        "            print('Account Blocked!')\n",
        "    def acc_balance(self):                                              #### using function for account balance of the customer\n",
        "        print('Account Balance: ',info[name][3])\n",
        "    def withdraw(self):                                                 #### using function for withdrawing the amount of cash from bank\n",
        "        print('Account Balance: ',info[name][3])\n",
        "        amt=float(input('Enter Amount To Be Withdrawn: '))\n",
        "        if amt<=info[name][3]:\n",
        "            info[name][3]=info[name][3]-amt\n",
        "            print('New Account Balance is : ', info[name][3])\n",
        "        else:\n",
        "            print('Insufficient Balance in Account!')\n",
        "    def deposit(self):                                                  #### using function for depositing the money in bank\n",
        "        amt=float(input('Enter Amount To Be Deposited: '))\n",
        "        info[name][3]=info[name][3]+amt\n",
        "        print('New Account Balance: ', info[name][3])\n",
        "\n",
        "##### ACCEPTING THE INFO FROM THE USER\n",
        "info={\"JUSTIN\":[4612485411,123454562,4545,12000.00], \"MAHAK\":[3769845253,1234567895,8989,10000.00], 'Vedant':[4324567890,1122334455,1234,100000.00], \"RONIL\":[6669857142,12345677412,1111,17000.00], \"VARDHAN\":[7779848475,123458481,7777,10500.00]}\n",
        "k=info.keys()\n",
        "#### NOW PERFORMING THE ATM FUNCTIONS:-\n",
        "while (1):\n",
        "    name=str(input('Enter Name: '))\n",
        "    if name in k:\n",
        "        i=3\n",
        "        while(i>0):\n",
        "            pin=int(input('Enter PIN: '))  #### if the pin is right the the following functions appear\n",
        "            if pin==info[name][2]:\n",
        "                a=atm(name)\n",
        "                while(1):\n",
        "                    print('Enter 1 For Account Info')\n",
        "                    print('Enter 2 For PIN Change')\n",
        "                    print('Enter 3 For Balance Inquiry')\n",
        "                    print('Enter 4 For Withdrawal')\n",
        "                    print('Enter 5 For Deposit')\n",
        "                    s=int(input('Select Operation: '))\n",
        "                    if s==1:\n",
        "                        a.acc_info()\n",
        "                    elif s==2:\n",
        "                        a.pin_change()\n",
        "                    elif s==3:\n",
        "                        a.acc_balance()\n",
        "                    elif s==4:\n",
        "                        a.withdraw()\n",
        "                    elif s==5:\n",
        "                        a.deposit()\n",
        "                    else:\n",
        "                        print('Invalid Option Selected! Choose Again')\n",
        "                        continue\n",
        "                    e=input('Enter Y to exit, press any other key to continue operations: ')  #### for exiting\n",
        "                    if e=='y' or e=='Y':\n",
        "                        print('Thank You!')\n",
        "                        break\n",
        "                    else:\n",
        "                        continue\n",
        "                break\n",
        "            else:\n",
        "                i=i-1\n",
        "                print('Incorrect PIN, {} tries left'.format(i))\n",
        "        if i==0:\n",
        "            del info[name]\n",
        "            print('Account Blocked!')\n",
        "        break\n",
        "        ### program end"
      ],
      "metadata": {
        "colab": {
          "base_uri": "https://localhost:8080/"
        },
        "id": "HBX3vlacSy9S",
        "outputId": "58f18b3e-bd38-4457-f37b-d8f7c6949ee5"
      },
      "execution_count": null,
      "outputs": [
        {
          "output_type": "stream",
          "name": "stdout",
          "text": [
            "Enter Name: JUSTIN\n",
            "Enter PIN: 4545\n",
            "Enter 1 For Account Info\n",
            "Enter 2 For PIN Change\n",
            "Enter 3 For Balance Inquiry\n",
            "Enter 4 For Withdrawal\n",
            "Enter 5 For Deposit\n",
            "Select Operation: 4\n",
            "Account Balance:  12000.0\n",
            "Enter Amount To Be Withdrawn: 6500\n",
            "New Account Balance is :  5500.0\n",
            "Enter Y to exit, press any other key to continue operations: Y\n",
            "Thank You!\n"
          ]
        }
      ]
    }
  ],
  "metadata": {
    "colab": {
      "toc_visible": true,
      "provenance": [],
      "include_colab_link": true
    },
    "kernelspec": {
      "display_name": "Python 3",
      "name": "python3"
    }
  },
  "nbformat": 4,
  "nbformat_minor": 0
}